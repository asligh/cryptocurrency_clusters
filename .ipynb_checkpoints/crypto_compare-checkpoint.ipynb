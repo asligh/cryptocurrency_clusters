{
 "cells": [
  {
   "cell_type": "code",
   "execution_count": 1,
   "metadata": {},
   "outputs": [],
   "source": [
    "import pandas as pd\n",
    "import sklearn\n",
    "import matplotlib.pyplot as plt\n",
    "from pathlib import Path\n",
    "from sklearn.preprocessing import StandardScaler\n",
    "from sklearn.decomposition import PCA\n",
    "from sklearn.manifold import TSNE\n",
    "from sklearn.cluster import KMeans"
   ]
  },
  {
   "cell_type": "code",
   "execution_count": 2,
   "metadata": {},
   "outputs": [
    {
     "data": {
      "text/html": [
       "<div>\n",
       "<style scoped>\n",
       "    .dataframe tbody tr th:only-of-type {\n",
       "        vertical-align: middle;\n",
       "    }\n",
       "\n",
       "    .dataframe tbody tr th {\n",
       "        vertical-align: top;\n",
       "    }\n",
       "\n",
       "    .dataframe thead th {\n",
       "        text-align: right;\n",
       "    }\n",
       "</style>\n",
       "<table border=\"1\" class=\"dataframe\">\n",
       "  <thead>\n",
       "    <tr style=\"text-align: right;\">\n",
       "      <th></th>\n",
       "      <th>Unnamed: 0</th>\n",
       "      <th>CoinName</th>\n",
       "      <th>Algorithm</th>\n",
       "      <th>IsTrading</th>\n",
       "      <th>ProofType</th>\n",
       "      <th>TotalCoinsMined</th>\n",
       "      <th>TotalCoinSupply</th>\n",
       "    </tr>\n",
       "  </thead>\n",
       "  <tbody>\n",
       "    <tr>\n",
       "      <th>0</th>\n",
       "      <td>42</td>\n",
       "      <td>42 Coin</td>\n",
       "      <td>Scrypt</td>\n",
       "      <td>True</td>\n",
       "      <td>PoW/PoS</td>\n",
       "      <td>4.199995e+01</td>\n",
       "      <td>42</td>\n",
       "    </tr>\n",
       "    <tr>\n",
       "      <th>1</th>\n",
       "      <td>365</td>\n",
       "      <td>365Coin</td>\n",
       "      <td>X11</td>\n",
       "      <td>True</td>\n",
       "      <td>PoW/PoS</td>\n",
       "      <td>NaN</td>\n",
       "      <td>2300000000</td>\n",
       "    </tr>\n",
       "    <tr>\n",
       "      <th>2</th>\n",
       "      <td>404</td>\n",
       "      <td>404Coin</td>\n",
       "      <td>Scrypt</td>\n",
       "      <td>True</td>\n",
       "      <td>PoW/PoS</td>\n",
       "      <td>1.055185e+09</td>\n",
       "      <td>532000000</td>\n",
       "    </tr>\n",
       "    <tr>\n",
       "      <th>3</th>\n",
       "      <td>611</td>\n",
       "      <td>SixEleven</td>\n",
       "      <td>SHA-256</td>\n",
       "      <td>True</td>\n",
       "      <td>PoW</td>\n",
       "      <td>NaN</td>\n",
       "      <td>611000</td>\n",
       "    </tr>\n",
       "    <tr>\n",
       "      <th>4</th>\n",
       "      <td>808</td>\n",
       "      <td>808</td>\n",
       "      <td>SHA-256</td>\n",
       "      <td>True</td>\n",
       "      <td>PoW/PoS</td>\n",
       "      <td>0.000000e+00</td>\n",
       "      <td>0</td>\n",
       "    </tr>\n",
       "  </tbody>\n",
       "</table>\n",
       "</div>"
      ],
      "text/plain": [
       "  Unnamed: 0   CoinName Algorithm  IsTrading ProofType  TotalCoinsMined  \\\n",
       "0         42    42 Coin    Scrypt       True   PoW/PoS     4.199995e+01   \n",
       "1        365    365Coin       X11       True   PoW/PoS              NaN   \n",
       "2        404    404Coin    Scrypt       True   PoW/PoS     1.055185e+09   \n",
       "3        611  SixEleven   SHA-256       True       PoW              NaN   \n",
       "4        808        808   SHA-256       True   PoW/PoS     0.000000e+00   \n",
       "\n",
       "  TotalCoinSupply  \n",
       "0              42  \n",
       "1      2300000000  \n",
       "2       532000000  \n",
       "3          611000  \n",
       "4               0  "
      ]
     },
     "execution_count": 2,
     "metadata": {},
     "output_type": "execute_result"
    }
   ],
   "source": [
    "#1 Read crypto_data.csv into Pandas. The dataset was obtained from CryptoCompare.\n",
    "crypto_raw_df = pd.read_csv(Path('crypto_data.csv'))\n",
    "\n",
    "crypto_raw_df.head(5)"
   ]
  },
  {
   "cell_type": "code",
   "execution_count": 3,
   "metadata": {},
   "outputs": [
    {
     "data": {
      "text/html": [
       "<div>\n",
       "<style scoped>\n",
       "    .dataframe tbody tr th:only-of-type {\n",
       "        vertical-align: middle;\n",
       "    }\n",
       "\n",
       "    .dataframe tbody tr th {\n",
       "        vertical-align: top;\n",
       "    }\n",
       "\n",
       "    .dataframe thead th {\n",
       "        text-align: right;\n",
       "    }\n",
       "</style>\n",
       "<table border=\"1\" class=\"dataframe\">\n",
       "  <thead>\n",
       "    <tr style=\"text-align: right;\">\n",
       "      <th></th>\n",
       "      <th>CoinName</th>\n",
       "      <th>Algorithm</th>\n",
       "      <th>ProofType</th>\n",
       "      <th>TotalCoinsMined</th>\n",
       "      <th>TotalCoinSupply</th>\n",
       "    </tr>\n",
       "  </thead>\n",
       "  <tbody>\n",
       "    <tr>\n",
       "      <th>0</th>\n",
       "      <td>42 Coin</td>\n",
       "      <td>Scrypt</td>\n",
       "      <td>PoW/PoS</td>\n",
       "      <td>4.199995e+01</td>\n",
       "      <td>42</td>\n",
       "    </tr>\n",
       "    <tr>\n",
       "      <th>1</th>\n",
       "      <td>365Coin</td>\n",
       "      <td>X11</td>\n",
       "      <td>PoW/PoS</td>\n",
       "      <td>NaN</td>\n",
       "      <td>2300000000</td>\n",
       "    </tr>\n",
       "    <tr>\n",
       "      <th>2</th>\n",
       "      <td>404Coin</td>\n",
       "      <td>Scrypt</td>\n",
       "      <td>PoW/PoS</td>\n",
       "      <td>1.055185e+09</td>\n",
       "      <td>532000000</td>\n",
       "    </tr>\n",
       "    <tr>\n",
       "      <th>3</th>\n",
       "      <td>SixEleven</td>\n",
       "      <td>SHA-256</td>\n",
       "      <td>PoW</td>\n",
       "      <td>NaN</td>\n",
       "      <td>611000</td>\n",
       "    </tr>\n",
       "    <tr>\n",
       "      <th>4</th>\n",
       "      <td>808</td>\n",
       "      <td>SHA-256</td>\n",
       "      <td>PoW/PoS</td>\n",
       "      <td>0.000000e+00</td>\n",
       "      <td>0</td>\n",
       "    </tr>\n",
       "  </tbody>\n",
       "</table>\n",
       "</div>"
      ],
      "text/plain": [
       "    CoinName Algorithm ProofType  TotalCoinsMined TotalCoinSupply\n",
       "0    42 Coin    Scrypt   PoW/PoS     4.199995e+01              42\n",
       "1    365Coin       X11   PoW/PoS              NaN      2300000000\n",
       "2    404Coin    Scrypt   PoW/PoS     1.055185e+09       532000000\n",
       "3  SixEleven   SHA-256       PoW              NaN          611000\n",
       "4        808   SHA-256   PoW/PoS     0.000000e+00               0"
      ]
     },
     "execution_count": 3,
     "metadata": {},
     "output_type": "execute_result"
    }
   ],
   "source": [
    "#2 Discard all cryptocurrencies that are not being traded. In other words, filter for currencies that are currently being traded. \n",
    "#  Once you have done this, drop the IsTrading column from the dataframe.\n",
    "\n",
    "traded_cryptos_df = crypto_raw_df.loc[crypto_raw_df[\"IsTrading\"]==True]\n",
    "traded_cryptos_df = traded_cryptos_df.drop(columns=['Unnamed: 0','IsTrading'],axis=1)\n",
    "traded_cryptos_df.head(5)"
   ]
  },
  {
   "cell_type": "code",
   "execution_count": 4,
   "metadata": {},
   "outputs": [],
   "source": [
    "#3 Remove all rows that have at least one null value.\n",
    "\n",
    "traded_cryptos_df = traded_cryptos_df.dropna(axis=0)"
   ]
  },
  {
   "cell_type": "code",
   "execution_count": 5,
   "metadata": {},
   "outputs": [],
   "source": [
    "#4 Filter for cryptocurrencies that have been mined. That is, the total coins mined should be greater than zero.\n",
    "\n",
    "mined_cryptos_df = traded_cryptos_df.loc[traded_cryptos_df.TotalCoinsMined > 0]"
   ]
  },
  {
   "cell_type": "code",
   "execution_count": 6,
   "metadata": {},
   "outputs": [],
   "source": [
    "# 5. In order for your dataset to be comprehensible to a machine learning algorithm, its data should be numeric. \n",
    "#    Since the coin names do not contribute to the analysis of the data, delete the CoinName from the original dataframe.\n",
    "\n",
    "mined_cryptos_df = mined_cryptos_df.drop(columns='CoinName',axis=1)\n"
   ]
  },
  {
   "cell_type": "code",
   "execution_count": 7,
   "metadata": {},
   "outputs": [
    {
     "data": {
      "text/plain": [
       "98"
      ]
     },
     "execution_count": 7,
     "metadata": {},
     "output_type": "execute_result"
    }
   ],
   "source": [
    "#6 Your next step in data preparation is to convert the remaining features with text values, Algorithm and ProofType, \n",
    "#  into numerical data. To accomplish this task, use Pandas to create dummy variables. Examine the number of rows and \n",
    "#  columns of your dataset now. How did they change?\n",
    "\n",
    "dummy_df = pd.get_dummies(mined_cryptos_df, columns=['Algorithm', 'ProofType'])\n",
    "len(dummy_df.columns)\n",
    "\n",
    "#Data changed in that Algorithm and ProofType values rows became columns"
   ]
  },
  {
   "cell_type": "code",
   "execution_count": 8,
   "metadata": {},
   "outputs": [],
   "source": [
    "#7 Standardize your dataset so that columns that contain larger values do not unduly influence the outcome.\n",
    "\n",
    "scaler = StandardScaler()\n",
    "scaled_dummy_df = scaler.fit_transform(dummy_df)\n"
   ]
  },
  {
   "cell_type": "code",
   "execution_count": 9,
   "metadata": {},
   "outputs": [
    {
     "data": {
      "text/html": [
       "<div>\n",
       "<style scoped>\n",
       "    .dataframe tbody tr th:only-of-type {\n",
       "        vertical-align: middle;\n",
       "    }\n",
       "\n",
       "    .dataframe tbody tr th {\n",
       "        vertical-align: top;\n",
       "    }\n",
       "\n",
       "    .dataframe thead th {\n",
       "        text-align: right;\n",
       "    }\n",
       "</style>\n",
       "<table border=\"1\" class=\"dataframe\">\n",
       "  <thead>\n",
       "    <tr style=\"text-align: right;\">\n",
       "      <th></th>\n",
       "      <th>PCA1</th>\n",
       "      <th>PCA2</th>\n",
       "      <th>PCA3</th>\n",
       "      <th>PCA4</th>\n",
       "      <th>PCA5</th>\n",
       "    </tr>\n",
       "  </thead>\n",
       "  <tbody>\n",
       "    <tr>\n",
       "      <th>0</th>\n",
       "      <td>-0.335688</td>\n",
       "      <td>1.033502</td>\n",
       "      <td>-0.594925</td>\n",
       "      <td>0.003002</td>\n",
       "      <td>0.039416</td>\n",
       "    </tr>\n",
       "    <tr>\n",
       "      <th>1</th>\n",
       "      <td>-0.319016</td>\n",
       "      <td>1.033579</td>\n",
       "      <td>-0.595358</td>\n",
       "      <td>0.003034</td>\n",
       "      <td>0.039726</td>\n",
       "    </tr>\n",
       "    <tr>\n",
       "      <th>2</th>\n",
       "      <td>2.319348</td>\n",
       "      <td>1.612764</td>\n",
       "      <td>-0.586474</td>\n",
       "      <td>0.021501</td>\n",
       "      <td>-0.012187</td>\n",
       "    </tr>\n",
       "    <tr>\n",
       "      <th>3</th>\n",
       "      <td>-0.153660</td>\n",
       "      <td>-1.296340</td>\n",
       "      <td>0.173570</td>\n",
       "      <td>-0.001880</td>\n",
       "      <td>-0.029360</td>\n",
       "    </tr>\n",
       "    <tr>\n",
       "      <th>4</th>\n",
       "      <td>-0.150742</td>\n",
       "      <td>-2.029580</td>\n",
       "      <td>0.392852</td>\n",
       "      <td>0.016371</td>\n",
       "      <td>0.044052</td>\n",
       "    </tr>\n",
       "  </tbody>\n",
       "</table>\n",
       "</div>"
      ],
      "text/plain": [
       "       PCA1      PCA2      PCA3      PCA4      PCA5\n",
       "0 -0.335688  1.033502 -0.594925  0.003002  0.039416\n",
       "1 -0.319016  1.033579 -0.595358  0.003034  0.039726\n",
       "2  2.319348  1.612764 -0.586474  0.021501 -0.012187\n",
       "3 -0.153660 -1.296340  0.173570 -0.001880 -0.029360\n",
       "4 -0.150742 -2.029580  0.392852  0.016371  0.044052"
      ]
     },
     "execution_count": 9,
     "metadata": {},
     "output_type": "execute_result"
    }
   ],
   "source": [
    "# Creating dummy variables above dramatically increased the number of features in your dataset. \n",
    "# Perform dimensionality reduction with PCA. Rather than specify the number of principal components \n",
    "# when you instantiate the PCA model, it is possible to state the desired explained variance.\n",
    "\n",
    "pca = PCA(n_components = 5)\n",
    "\n",
    "pca_fit_df = pca.fit_transform(scaled_dummy_df)\n",
    "\n",
    "crypto_pca_df = pd.DataFrame(data=pca_fit_df, columns=[\"PCA1\", \"PCA2\", \"PCA3\", \"PCA4\", \"PCA5\"])\n",
    "crypto_pca_df.head() "
   ]
  },
  {
   "cell_type": "code",
   "execution_count": 10,
   "metadata": {},
   "outputs": [
    {
     "data": {
      "text/plain": [
       "array([0.02793128, 0.02140901, 0.02050438, 0.0204431 , 0.02043331])"
      ]
     },
     "execution_count": 10,
     "metadata": {},
     "output_type": "execute_result"
    }
   ],
   "source": [
    "pca.explained_variance_ratio_"
   ]
  },
  {
   "cell_type": "code",
   "execution_count": 11,
   "metadata": {},
   "outputs": [],
   "source": [
    "# For example, say that a dataset has 100 features. Using PCA(n_components=0.99) creates a model that \n",
    "# will preserve approximately 99% of the explained variance, whether that means reducing the dataset to \n",
    "# 80 principal components or 3. For this project, preserve 90% of the explained variance in dimensionality \n",
    "# reduction. How did the number of the features change?"
   ]
  },
  {
   "cell_type": "code",
   "execution_count": 12,
   "metadata": {},
   "outputs": [
    {
     "data": {
      "text/plain": [
       "array([[-3.35098808e-01,  1.03218907e+00, -5.90713438e-01, ...,\n",
       "        -3.14347031e-16, -9.12135823e-16,  2.51599752e-15],\n",
       "       [-3.18433948e-01,  1.03233143e+00, -5.91125551e-01, ...,\n",
       "         1.40899850e-16, -6.63562740e-16,  1.76363717e-15],\n",
       "       [ 2.30546811e+00,  1.65638302e+00, -6.83616670e-01, ...,\n",
       "        -4.28651623e-14,  1.52581172e-14,  2.33406076e-14],\n",
       "       ...,\n",
       "       [ 3.24348535e-01, -2.31230764e+00,  4.21515366e-01, ...,\n",
       "         6.43792050e-15,  5.39438665e-14,  4.08239752e-14],\n",
       "       [-1.49363652e-01, -2.04933553e+00,  4.12968257e-01, ...,\n",
       "         6.40788354e-16,  1.39171221e-15, -1.63325938e-15],\n",
       "       [-2.89957500e-01,  8.21194511e-01, -2.76326847e-01, ...,\n",
       "         3.55437290e-16, -2.85851680e-15,  1.49183539e-15]])"
      ]
     },
     "execution_count": 12,
     "metadata": {},
     "output_type": "execute_result"
    }
   ],
   "source": [
    "# Preserve 90% of the explained variance in dimensionality reduction using PCA\n",
    "pca2 = PCA(n_components=.90)\n",
    "\n",
    "crypto_pca = pca2.fit_transform(scaled_dummy_df)\n",
    "crypto_pca"
   ]
  },
  {
   "cell_type": "code",
   "execution_count": 13,
   "metadata": {},
   "outputs": [
    {
     "data": {
      "text/html": [
       "<div>\n",
       "<style scoped>\n",
       "    .dataframe tbody tr th:only-of-type {\n",
       "        vertical-align: middle;\n",
       "    }\n",
       "\n",
       "    .dataframe tbody tr th {\n",
       "        vertical-align: top;\n",
       "    }\n",
       "\n",
       "    .dataframe thead th {\n",
       "        text-align: right;\n",
       "    }\n",
       "</style>\n",
       "<table border=\"1\" class=\"dataframe\">\n",
       "  <thead>\n",
       "    <tr style=\"text-align: right;\">\n",
       "      <th></th>\n",
       "      <th>0</th>\n",
       "      <th>1</th>\n",
       "      <th>2</th>\n",
       "      <th>3</th>\n",
       "      <th>4</th>\n",
       "      <th>5</th>\n",
       "      <th>6</th>\n",
       "      <th>7</th>\n",
       "      <th>8</th>\n",
       "      <th>9</th>\n",
       "      <th>...</th>\n",
       "      <th>64</th>\n",
       "      <th>65</th>\n",
       "      <th>66</th>\n",
       "      <th>67</th>\n",
       "      <th>68</th>\n",
       "      <th>69</th>\n",
       "      <th>70</th>\n",
       "      <th>71</th>\n",
       "      <th>72</th>\n",
       "      <th>73</th>\n",
       "    </tr>\n",
       "  </thead>\n",
       "  <tbody>\n",
       "    <tr>\n",
       "      <th>0</th>\n",
       "      <td>-0.335099</td>\n",
       "      <td>1.032189</td>\n",
       "      <td>-0.590713</td>\n",
       "      <td>0.001397</td>\n",
       "      <td>9.543357e-15</td>\n",
       "      <td>2.584461e-14</td>\n",
       "      <td>2.783272e-12</td>\n",
       "      <td>-0.007129</td>\n",
       "      <td>-1.319756</td>\n",
       "      <td>-0.051813</td>\n",
       "      <td>...</td>\n",
       "      <td>2.337319e-15</td>\n",
       "      <td>5.504297e-16</td>\n",
       "      <td>-9.521754e-15</td>\n",
       "      <td>-2.223528e-15</td>\n",
       "      <td>3.187960e-15</td>\n",
       "      <td>4.367153e-16</td>\n",
       "      <td>1.859567e-15</td>\n",
       "      <td>-3.143470e-16</td>\n",
       "      <td>-9.121358e-16</td>\n",
       "      <td>2.515998e-15</td>\n",
       "    </tr>\n",
       "    <tr>\n",
       "      <th>1</th>\n",
       "      <td>-0.318434</td>\n",
       "      <td>1.032331</td>\n",
       "      <td>-0.591126</td>\n",
       "      <td>0.001386</td>\n",
       "      <td>9.454226e-15</td>\n",
       "      <td>2.583214e-14</td>\n",
       "      <td>2.760785e-12</td>\n",
       "      <td>-0.007739</td>\n",
       "      <td>-1.322514</td>\n",
       "      <td>-0.056674</td>\n",
       "      <td>...</td>\n",
       "      <td>2.318559e-15</td>\n",
       "      <td>1.463161e-16</td>\n",
       "      <td>-8.740104e-15</td>\n",
       "      <td>-9.796321e-16</td>\n",
       "      <td>2.067953e-15</td>\n",
       "      <td>7.849041e-16</td>\n",
       "      <td>2.400291e-15</td>\n",
       "      <td>1.408998e-16</td>\n",
       "      <td>-6.635627e-16</td>\n",
       "      <td>1.763637e-15</td>\n",
       "    </tr>\n",
       "    <tr>\n",
       "      <th>2</th>\n",
       "      <td>2.305468</td>\n",
       "      <td>1.656383</td>\n",
       "      <td>-0.683617</td>\n",
       "      <td>0.004731</td>\n",
       "      <td>2.129524e-14</td>\n",
       "      <td>3.755646e-14</td>\n",
       "      <td>9.428182e-12</td>\n",
       "      <td>-0.054781</td>\n",
       "      <td>-1.542879</td>\n",
       "      <td>-0.943951</td>\n",
       "      <td>...</td>\n",
       "      <td>-4.996160e-14</td>\n",
       "      <td>-3.979802e-14</td>\n",
       "      <td>5.785993e-14</td>\n",
       "      <td>6.190230e-14</td>\n",
       "      <td>-1.359053e-14</td>\n",
       "      <td>2.676015e-14</td>\n",
       "      <td>-6.589743e-14</td>\n",
       "      <td>-4.286516e-14</td>\n",
       "      <td>1.525812e-14</td>\n",
       "      <td>2.334061e-14</td>\n",
       "    </tr>\n",
       "    <tr>\n",
       "      <th>3</th>\n",
       "      <td>-0.145184</td>\n",
       "      <td>-1.320593</td>\n",
       "      <td>0.192813</td>\n",
       "      <td>-0.001229</td>\n",
       "      <td>-5.159734e-15</td>\n",
       "      <td>-9.459827e-15</td>\n",
       "      <td>-2.448600e-12</td>\n",
       "      <td>-0.002071</td>\n",
       "      <td>0.281463</td>\n",
       "      <td>0.251862</td>\n",
       "      <td>...</td>\n",
       "      <td>-9.929433e-15</td>\n",
       "      <td>-6.755996e-15</td>\n",
       "      <td>8.338135e-15</td>\n",
       "      <td>9.429897e-15</td>\n",
       "      <td>-9.793847e-15</td>\n",
       "      <td>-2.556739e-15</td>\n",
       "      <td>2.380441e-16</td>\n",
       "      <td>2.127087e-15</td>\n",
       "      <td>1.526409e-14</td>\n",
       "      <td>5.404772e-15</td>\n",
       "    </tr>\n",
       "    <tr>\n",
       "      <th>4</th>\n",
       "      <td>-0.151768</td>\n",
       "      <td>-2.036192</td>\n",
       "      <td>0.396182</td>\n",
       "      <td>-0.001705</td>\n",
       "      <td>-1.570805e-14</td>\n",
       "      <td>-2.254731e-14</td>\n",
       "      <td>-3.400944e-12</td>\n",
       "      <td>0.027735</td>\n",
       "      <td>0.519099</td>\n",
       "      <td>0.188820</td>\n",
       "      <td>...</td>\n",
       "      <td>-1.350763e-14</td>\n",
       "      <td>3.594031e-14</td>\n",
       "      <td>1.063412e-13</td>\n",
       "      <td>2.051921e-15</td>\n",
       "      <td>-4.644808e-14</td>\n",
       "      <td>-2.237849e-14</td>\n",
       "      <td>1.076614e-13</td>\n",
       "      <td>4.624185e-14</td>\n",
       "      <td>1.636071e-13</td>\n",
       "      <td>7.382433e-14</td>\n",
       "    </tr>\n",
       "  </tbody>\n",
       "</table>\n",
       "<p>5 rows × 74 columns</p>\n",
       "</div>"
      ],
      "text/plain": [
       "         0         1         2         3             4             5   \\\n",
       "0 -0.335099  1.032189 -0.590713  0.001397  9.543357e-15  2.584461e-14   \n",
       "1 -0.318434  1.032331 -0.591126  0.001386  9.454226e-15  2.583214e-14   \n",
       "2  2.305468  1.656383 -0.683617  0.004731  2.129524e-14  3.755646e-14   \n",
       "3 -0.145184 -1.320593  0.192813 -0.001229 -5.159734e-15 -9.459827e-15   \n",
       "4 -0.151768 -2.036192  0.396182 -0.001705 -1.570805e-14 -2.254731e-14   \n",
       "\n",
       "             6         7         8         9   ...            64  \\\n",
       "0  2.783272e-12 -0.007129 -1.319756 -0.051813  ...  2.337319e-15   \n",
       "1  2.760785e-12 -0.007739 -1.322514 -0.056674  ...  2.318559e-15   \n",
       "2  9.428182e-12 -0.054781 -1.542879 -0.943951  ... -4.996160e-14   \n",
       "3 -2.448600e-12 -0.002071  0.281463  0.251862  ... -9.929433e-15   \n",
       "4 -3.400944e-12  0.027735  0.519099  0.188820  ... -1.350763e-14   \n",
       "\n",
       "             65            66            67            68            69  \\\n",
       "0  5.504297e-16 -9.521754e-15 -2.223528e-15  3.187960e-15  4.367153e-16   \n",
       "1  1.463161e-16 -8.740104e-15 -9.796321e-16  2.067953e-15  7.849041e-16   \n",
       "2 -3.979802e-14  5.785993e-14  6.190230e-14 -1.359053e-14  2.676015e-14   \n",
       "3 -6.755996e-15  8.338135e-15  9.429897e-15 -9.793847e-15 -2.556739e-15   \n",
       "4  3.594031e-14  1.063412e-13  2.051921e-15 -4.644808e-14 -2.237849e-14   \n",
       "\n",
       "             70            71            72            73  \n",
       "0  1.859567e-15 -3.143470e-16 -9.121358e-16  2.515998e-15  \n",
       "1  2.400291e-15  1.408998e-16 -6.635627e-16  1.763637e-15  \n",
       "2 -6.589743e-14 -4.286516e-14  1.525812e-14  2.334061e-14  \n",
       "3  2.380441e-16  2.127087e-15  1.526409e-14  5.404772e-15  \n",
       "4  1.076614e-13  4.624185e-14  1.636071e-13  7.382433e-14  \n",
       "\n",
       "[5 rows x 74 columns]"
      ]
     },
     "execution_count": 13,
     "metadata": {},
     "output_type": "execute_result"
    }
   ],
   "source": [
    "# Transform PCA data to a DataFrame\n",
    "transformed_crypto_pca = pd.DataFrame(data=crypto_pca)\n",
    "transformed_crypto_pca.head()"
   ]
  },
  {
   "cell_type": "code",
   "execution_count": 14,
   "metadata": {},
   "outputs": [
    {
     "data": {
      "text/plain": [
       "array([0.02793128, 0.02140901, 0.02050438, 0.0204431 , 0.02043331])"
      ]
     },
     "execution_count": 14,
     "metadata": {},
     "output_type": "execute_result"
    }
   ],
   "source": [
    "pca.explained_variance_ratio_"
   ]
  },
  {
   "cell_type": "code",
   "execution_count": 15,
   "metadata": {},
   "outputs": [
    {
     "data": {
      "text/plain": [
       "([<matplotlib.axis.XTick at 0x28607b5ba00>,\n",
       "  <matplotlib.axis.XTick at 0x28607b5b9d0>,\n",
       "  <matplotlib.axis.XTick at 0x28607b4afa0>,\n",
       "  <matplotlib.axis.XTick at 0x28607babb80>,\n",
       "  <matplotlib.axis.XTick at 0x28607bc1310>],\n",
       " [Text(0, 0, ''),\n",
       "  Text(0, 0, ''),\n",
       "  Text(0, 0, ''),\n",
       "  Text(0, 0, ''),\n",
       "  Text(0, 0, '')])"
      ]
     },
     "execution_count": 15,
     "metadata": {},
     "output_type": "execute_result"
    },
    {
     "data": {
      "image/png": "[encoded data removed]",
      "text/plain": [
       "<Figure size 432x288 with 1 Axes>"
      ]
     },
     "metadata": {
      "needs_background": "light"
     },
     "output_type": "display_data"
    }
   ],
   "source": [
    "features = range(pca.n_components_)\n",
    "plt.bar(features, pca.explained_variance_ratio_, color='skyblue')\n",
    "plt.xlabel('PCA Features')\n",
    "plt.ylabel('% Var')\n",
    "plt.xticks(features)"
   ]
  },
  {
   "cell_type": "code",
   "execution_count": 16,
   "metadata": {},
   "outputs": [
    {
     "data": {
      "text/plain": [
       "74"
      ]
     },
     "execution_count": 16,
     "metadata": {},
     "output_type": "execute_result"
    }
   ],
   "source": [
    "# Number of features\n",
    "len(transformed_crypto_pca.columns)"
   ]
  },
  {
   "cell_type": "code",
   "execution_count": 17,
   "metadata": {},
   "outputs": [],
   "source": [
    "# Next, further reduce the dataset dimensions with t-SNE and visually inspect the results. \n",
    "# In order to accomplish this task, run t-SNE on the principal components: the output of the PCA transformation. \n",
    "# Then create a scatter plot of the t-SNE output. Observe whether there are distinct clusters or not.\n",
    "\n",
    "tsne = TSNE(learning_rate=35)"
   ]
  },
  {
   "cell_type": "code",
   "execution_count": 18,
   "metadata": {},
   "outputs": [
    {
     "data": {
      "text/plain": [
       "(532, 2)"
      ]
     },
     "execution_count": 18,
     "metadata": {},
     "output_type": "execute_result"
    }
   ],
   "source": [
    "tsne_features = tsne.fit_transform(transformed_crypto_pca)\n",
    "tsne_features.shape"
   ]
  },
  {
   "cell_type": "code",
   "execution_count": 19,
   "metadata": {},
   "outputs": [
    {
     "data": {
      "image/png": "[encoded data removed]",
      "text/plain": [
       "<Figure size 432x288 with 1 Axes>"
      ]
     },
     "metadata": {
      "needs_background": "light"
     },
     "output_type": "display_data"
    }
   ],
   "source": [
    "x = tsne_features[:,0]\n",
    "y = tsne_features[:,1]\n",
    "\n",
    "plt.scatter(x, y)\n",
    "plt.show()"
   ]
  },
  {
   "cell_type": "code",
   "execution_count": 22,
   "metadata": {},
   "outputs": [
    {
     "name": "stderr",
     "output_type": "stream",
     "text": [
      "C:\\Users\\aslig\\anaconda3\\envs\\PythonData\\lib\\site-packages\\sklearn\\cluster\\_kmeans.py:881: UserWarning: KMeans is known to have a memory leak on Windows with MKL, when there are less chunks than available threads. You can avoid it by setting the environment variable OMP_NUM_THREADS=3.\n",
      "  warnings.warn(\n"
     ]
    },
    {
     "data": {
      "image/png": "[encoded data removed]",
      "text/plain": [
       "<Figure size 432x288 with 1 Axes>"
      ]
     },
     "metadata": {
      "needs_background": "light"
     },
     "output_type": "display_data"
    }
   ],
   "source": [
    "#Create an elbow plot to identify the best number of clusters. Use a for-loop to determine the inertia for each k between 1 through 10. Determine, if possible, where the elbow of the plot is, \n",
    "#and at which value of k it appears.\n",
    "\n",
    "inertia_container = []\n",
    "l_range = list(range(1, 11))\n",
    "\n",
    "for i in l_range:\n",
    "    km = KMeans(n_clusters=i, random_state=42)\n",
    "    km.fit(transformed_crypto_pca)\n",
    "    inertia_container.append(km.inertia_)\n",
    "\n",
    "# Elbow Curve\n",
    "elbow_data = {\"K\": l_range, \"Inertia\": inertia_container}\n",
    "df_elbow = pd.DataFrame(elbow_data)\n",
    "plt.plot(df_elbow['K'], df_elbow['Inertia'])\n",
    "plt.xticks(range(1,11))\n",
    "plt.xlabel('# Clusters')\n",
    "plt.ylabel('Inertia')\n",
    "plt.show()"
   ]
  },
  {
   "cell_type": "code",
   "execution_count": 21,
   "metadata": {},
   "outputs": [],
   "source": [
    "# There isn't a discernable elbow in the graph.  THe K-value beyond changes, albiet a very small amount. "
   ]
  }
 ],
 "metadata": {
  "kernelspec": {
   "display_name": "Python 3 (ipykernel)",
   "language": "python",
   "name": "python3"
  },
  "language_info": {
   "codemirror_mode": {
    "name": "ipython",
    "version": 3
   },
   "file_extension": ".py",
   "mimetype": "text/x-python",
   "name": "python",
   "nbconvert_exporter": "python",
   "pygments_lexer": "ipython3",
   "version": "3.8.11"
  }
 },
 "nbformat": 4,
 "nbformat_minor": 4
}
